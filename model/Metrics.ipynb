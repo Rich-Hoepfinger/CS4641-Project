{
 "cells": [
  {
   "attachments": {},
   "cell_type": "markdown",
   "id": "6032d6a6",
   "metadata": {},
   "source": [
    "Imports the necessary libraries and sets up data table"
   ]
  },
  {
   "cell_type": "code",
   "execution_count": null,
   "id": "7fd3bc01",
   "metadata": {},
   "outputs": [],
   "source": [
    "import pandas\n",
    "import numpy\n",
    "from sklearn import preprocessing\n",
    "from sklearn import model_selection\n",
    "from sklearn import neural_network\n",
    "from sklearn import metrics\n",
    "from sklearn import neighbors\n",
    "from sklearn.preprocessing import StandardScaler\n",
    "from matplotlib import pyplot as plt\n",
    "\n",
    "\n",
    "#data = pandas.read_csv('minmax_normalised_trackdata.csv')\n",
    "#data = pandas.read_csv('dupremoved_trackdata.csv')\n",
    "#data = pandas.read_csv('softmax_normalised_trackdata.csv')\n",
    "#data = pandas.read_csv('zscore_normalised_trackdata.csv')\n",
    "#data = pandas.read_csv('collinearity_removed.csv')\n",
    "#data = pandas.read_csv('dbscanned_trackdata.csv')\n",
    "\n",
    "data.info()\n",
    "genreMap = sorted(data[\"genre\"].unique())"
   ]
  },
  {
   "attachments": {},
   "cell_type": "markdown",
   "id": "b6f6c372",
   "metadata": {},
   "source": [
    "Training and testing set creation "
   ]
  },
  {
   "cell_type": "code",
   "execution_count": null,
   "id": "5aec53d3",
   "metadata": {},
   "outputs": [],
   "source": [
    "#uncomment the first X if using anything that isn't collinearity_removed.csv\n",
    "#X = data.drop([\"name\", \"artist\", \"album\", \"duration_ms\", \"id\", \"genre\"], axis=1)\n",
    "#X = data.drop(\"genre\", axis=1)\n",
    "y = preprocessing.LabelEncoder().fit_transform(data[\"genre\"])\n"
   ]
  },
  {
   "attachments": {},
   "cell_type": "markdown",
   "id": "da1b2f1d",
   "metadata": {},
   "source": [
    "Metrics using neural network"
   ]
  },
  {
   "cell_type": "code",
   "execution_count": null,
   "id": "6120de13",
   "metadata": {},
   "outputs": [],
   "source": [
    "X_train, X_test, y_train, y_test = model_selection.train_test_split(X, y, test_size=0.25)\n",
    "scaler = StandardScaler()  \n",
    "scaler.fit(X_train)  \n",
    "X_train = scaler.transform(X_train)  \n",
    "X_test = scaler.transform(X_test)\n",
    "model = neural_network.MLPClassifier(activation= 'tanh', max_iter= 10000000).fit(X_train, y_train)  \n",
    "\n",
    "\n",
    "yPredicted = model.predict(X_test)\n",
    "metrics.plot_confusion_matrix(model, X_test, y_test, cmap='GnBu')\n",
    "plt.show()\n",
    "\n",
    "print('Accuracy: %.3f' % metrics.accuracy_score(y_test, yPredicted))\n",
    "print('Precision: %.3f' % metrics.precision_score(y_test, yPredicted, average=\"macro\"))\n",
    "print('Recall: %.3f' % metrics.recall_score(y_test, yPredicted, average=\"macro\")) \n",
    "print(genreMap)"
   ]
  },
  {
   "attachments": {},
   "cell_type": "markdown",
   "id": "a87b21c3",
   "metadata": {},
   "source": [
    "Metrics using K neighbors, k clusters found using elbow method"
   ]
  },
  {
   "cell_type": "code",
   "execution_count": null,
   "id": "c6d5fd5f",
   "metadata": {},
   "outputs": [],
   "source": [
    "maxAccuracy = 0\n",
    "for i in range(1000) :\n",
    "    X_train, X_test, y_train, y_test = model_selection.train_test_split(X, y, test_size=0.25)\n",
    "    scaler = StandardScaler()  \n",
    "    scaler.fit(X_train)  \n",
    "    X_train = scaler.transform(X_train)  \n",
    "    X_test = scaler.transform(X_test)\n",
    "    model = neighbors.KNeighborsClassifier(n_neighbors= i + 1, weights= 'distance', algorithm= 'brute')\n",
    "    model.fit(X_train, y_train) \n",
    "    yPredicted = model.predict(X_test)\n",
    "    if  metrics.accuracy_score(y_test, yPredicted) > maxAccuracy :\n",
    "        bestX = X_test\n",
    "        bestY = y_test\n",
    "        bestPrediction = yPredicted\n",
    "        maxAccuracy =  metrics.accuracy_score(y_test, yPredicted)\n",
    "\n",
    "metrics.plot_confusion_matrix(model, bestX, bestY, cmap='GnBu')\n",
    "plt.show()\n",
    "\n",
    "print('Accuracy: %.3f' % maxAccuracy)\n",
    "print('Precision: %.3f' % metrics.precision_score(bestY, bestPrediction, average=\"macro\"))\n",
    "print('Recall: %.3f' % metrics.recall_score(bestY, bestPrediction, average=\"macro\")) \n",
    "print(genreMap)\n"
   ]
  }
 ],
 "metadata": {
  "kernelspec": {
   "display_name": "Python 3 (ipykernel)",
   "language": "python",
   "name": "python3"
  },
  "language_info": {
   "codemirror_mode": {
    "name": "ipython",
    "version": 3
   },
   "file_extension": ".py",
   "mimetype": "text/x-python",
   "name": "python",
   "nbconvert_exporter": "python",
   "pygments_lexer": "ipython3",
   "version": "3.7.16"
  }
 },
 "nbformat": 4,
 "nbformat_minor": 5
}
