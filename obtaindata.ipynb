{
 "cells": [
  {
   "cell_type": "code",
   "execution_count": 178,
   "metadata": {},
   "outputs": [
    {
     "data": {
      "text/plain": [
       "'\\nimport spotipy\\nimport spotipy.util as util\\nimport os\\nimport sys\\nimport json\\nimport webbrowser\\nfrom json.decoder import JSONDecodeError\\n'"
      ]
     },
     "execution_count": 178,
     "metadata": {},
     "output_type": "execute_result"
    }
   ],
   "source": [
    "'''\n",
    "import spotipy\n",
    "import spotipy.util as util\n",
    "import os\n",
    "import sys\n",
    "import json\n",
    "import webbrowser\n",
    "from json.decoder import JSONDecodeError\n",
    "'''"
   ]
  },
  {
   "cell_type": "code",
   "execution_count": 179,
   "metadata": {},
   "outputs": [],
   "source": [
    "import spotipy\n",
    "from spotipy.oauth2 import SpotifyClientCredentials\n",
    "import pandas as pd\n",
    "import numpy as np"
   ]
  },
  {
   "cell_type": "code",
   "execution_count": 180,
   "metadata": {},
   "outputs": [],
   "source": [
    "# Authentication\n",
    "cid = \"97b1d5814fd2487da196df943dda834d\"\n",
    "secret = \"87f620b5a6464e2d85d9fe1e32253d35\"\n",
    "client_credentials_manager = SpotifyClientCredentials(client_id = cid, client_secret = secret)\n",
    "sp = spotipy.Spotify(client_credentials_manager = client_credentials_manager)"
   ]
  },
  {
   "cell_type": "code",
   "execution_count": 181,
   "metadata": {},
   "outputs": [],
   "source": [
    "# EDIT THIS SECTION\n",
    "\n",
    "#playlist_link = \"https://open.spotify.com/playlist/6HGXewRDu4sH2qy8NYnNba?si=e41039b4ee764d3d\"\n",
    "#genres = \"orchestral\"\n",
    "playlist_links = {\n",
    "    \"pop\": \"https://open.spotify.com/playlist/13Cm1hem9RE4v2ZOMJv34T?si=C9qRRpOQT4-tIqZlzERd6w&app_destination=copy-link\",\n",
    "    \"hiphop\": \"https://open.spotify.com/playlist/5K9FlaF7V8Ib4X09rl23w6?si=XnauqM5BTiiqvp88B1bDwA&app_destination=copy-link\",\n",
    "    \"rock\": \"https://open.spotify.com/playlist/5Wk9TcVaNE5yCyli90HmaR?si=7e1c58897b224157\",\n",
    "    \"country\": \"https://open.spotify.com/playlist/6hjSKEoPqPLPTt3u0e9bLQ?si=0c844e194b8e467f\",\n",
    "    \"electronic\": \"https://open.spotify.com/playlist/4ZMSlQbw13hExG4ztynNNV?si=1176e787add3496d\",\n",
    "    \"R&B\": \"https://open.spotify.com/playlist/5WJXKWvPeWA9ubmvVsMTBh?si=YQ0Hnol7Q6S7sivtxHAssA&app_destination=copy-link\",\n",
    "    \"metal\": \"https://open.spotify.com/playlist/2mDXGVXMG4ZMQaR26iZVC7?si=2beae20751ab4364\",\n",
    "    \"jazz\": \"https://open.spotify.com/playlist/6GrLcuf2cf8g6h8lkZ0h7H?si=3b460ce380ff4ee6\",\n",
    "    \"reggae\": \"https://open.spotify.com/playlist/6E5Fr9QU6yAety6Y6pw11u?si=28e0d5583c814bb0\",\n",
    "    \"disco\": \"https://open.spotify.com/playlist/15X96mpCbP1ZiX8WIBqOhO?si=ba46abbe1146480f\",\n",
    "    \"folk\": \"https://open.spotify.com/playlist/5fEekkUMaM2Le4FL38UuKx?si=b569e2ad8a264b6b\",\n",
    "    \"orchestral\":\"https://open.spotify.com/playlist/6HGXewRDu4sH2qy8NYnNba?si=e41039b4ee764d3d\"\n",
    "}\n",
    "\n",
    "#\n",
    "\n",
    "#playlist_URI = playlist_link.split(\"/\")[-1].split(\"?\")[0]\n",
    "#track_uris = [x[\"track\"][\"uri\"] for x in sp.playlist_tracks(playlist_URI)[\"items\"]]"
   ]
  },
  {
   "cell_type": "code",
   "execution_count": 182,
   "metadata": {},
   "outputs": [],
   "source": [
    "def get_playlist_tracks(playlist_URI):\n",
    "    results = sp.playlist_tracks(playlist_URI)\n",
    "    tracks = results['items']\n",
    "    while results['next']:\n",
    "        results = sp.next(results)\n",
    "        tracks.extend(results['items'])\n",
    "    return tracks"
   ]
  },
  {
   "cell_type": "code",
   "execution_count": 183,
   "metadata": {},
   "outputs": [],
   "source": [
    "trackdata = []\n",
    "#trackids = set()\n",
    "for genre, playlist_link in playlist_links.items():\n",
    "    i = 0\n",
    "    playlist_URI = playlist_link.split(\"/\")[-1].split(\"?\")[0]\n",
    "\n",
    "    for track in get_playlist_tracks(playlist_URI):\n",
    "    \n",
    "        #URI\n",
    "        track_uri = track[\"track\"][\"uri\"]\n",
    "        \n",
    "        #Track name\n",
    "        track_name = track[\"track\"][\"name\"]\n",
    "\n",
    "        #Popularity of the track\n",
    "        track_pop = track[\"track\"][\"popularity\"]\n",
    "\n",
    "        #Explicitness of the track\n",
    "        track_exp = track[\"track\"][\"explicit\"]\n",
    "        \n",
    "        #Main Artist\n",
    "        artist_uri = track[\"track\"][\"artists\"][0][\"uri\"]\n",
    "        #artist_info = sp.artist(artist_uri)\n",
    "        \n",
    "        #Name, popularity, genre\n",
    "        artist_name = track[\"track\"][\"artists\"][0][\"name\"]\n",
    "        #artist_pop = artist_info[\"popularity\"]\n",
    "        #artist_genres = artist_info[\"genres\"]\n",
    "        \n",
    "        #Album\n",
    "        album = track[\"track\"][\"album\"][\"name\"]\n",
    "        \n",
    "        features = {}\n",
    "        audiofeatures = sp.audio_features(track_uri)[0]\n",
    "        features[\"name\"] = track_name\n",
    "        features[\"artist\"] = artist_name\n",
    "        features[\"album\"] = album\n",
    "        features[\"popularity\"] = track_pop\n",
    "        features.update(audiofeatures)\n",
    "        features[\"genre\"]= genre\n",
    "        trackdata.append(features)\n",
    "        i += 1\n",
    "mydf = pd.DataFrame(trackdata)\n",
    "mydf = mydf.drop(columns = [\"uri\", \"track_href\", \"analysis_url\", \"type\"])\n"
   ]
  },
  {
   "cell_type": "code",
   "execution_count": null,
   "metadata": {},
   "outputs": [],
   "source": [
    "mydf.to_csv(\"trackdata.csv\", index = False)"
   ]
  },
  {
   "cell_type": "code",
   "execution_count": 218,
   "metadata": {},
   "outputs": [
    {
     "name": "stdout",
     "output_type": "stream",
     "text": [
      "67\n"
     ]
    }
   ],
   "source": [
    "duplicate = mydf[\"id\"].duplicated(keep = False)\n",
    "test = mydf[duplicate].sort_values(by=[\"name\"])\n",
    "genre_conflict_same_track = [2017,1067,1258,478,1069,5107,406,444,350,1339,5080,5136,254,3310,\n",
    "                    1263,4821,2309,460,1219,63,3404,4804,3307,156,246,1253,1421,4797,\n",
    "                    196,2337,1485,54,1145,2174,468,5094,3430,277,2203,2104,5212,1116,\n",
    "                    5101,1234,2211,2191,497,5103,694,4052,167,1220,423,3326,400,1212,\n",
    "                    1369,5173,5083,5097,2293,473,1010,1062,3221,2588,38]\n",
    "print(len(genre_conflict_same_track))\n",
    "tracksdf = mydf.drop(genre_conflict_same_track)"
   ]
  },
  {
   "cell_type": "code",
   "execution_count": 237,
   "metadata": {},
   "outputs": [],
   "source": [
    "sorted = tracksdf.sort_values([\"name\",\"artist\",\"popularity\"], axis = 0)\n",
    "genrecheck = []\n",
    "rem = []\n",
    "for i in range(len(sorted.index[:-1])):\n",
    "    if sorted.iloc[i,16] == sorted.iloc[i+1,16]:\n",
    "            if sorted.iloc[i,18] != sorted.iloc[i+1,18]:\n",
    "                genrecheck.append((sorted.index[i+1],sorted.iloc[i,0], sorted.iloc[i,1], sorted.iloc[i,18],sorted.iloc[i+1,18]))\n",
    "            rem.append(sorted.index[i])\n",
    "sorted = sorted.drop(rem)"
   ]
  },
  {
   "cell_type": "code",
   "execution_count": 232,
   "metadata": {},
   "outputs": [
    {
     "data": {
      "text/plain": [
       "[(5116, 'Bad - 2012 Remaster', 'Michael Jackson', 'pop', 'disco'),\n",
       " (2750, 'Bitch Better Have My Money', 'Rihanna', 'hiphop', 'R&B'),\n",
       " (2210, 'By Your Side', 'Jonas Blue', 'pop', 'electronic'),\n",
       " (1565, 'Colder Heavens', 'Blanco White', 'folk', 'country'),\n",
       " (2168, 'Die Young', 'Kesha', 'pop', 'electronic'),\n",
       " (1276, 'Girls, Girls, Girls', 'Mötley Crüe', 'metal', 'rock'),\n",
       " (2270, 'I Feel It Coming', 'The Weeknd', 'pop', 'electronic'),\n",
       " (2198, 'Just Dance', 'Lady Gaga', 'pop', 'electronic'),\n",
       " (59, 'Lean On', 'Major Lazer', 'electronic', 'pop'),\n",
       " (2176, 'Memories (feat. Kid Cudi)', 'David Guetta', 'pop', 'electronic'),\n",
       " (2194, 'Middle', 'DJ Snake', 'pop', 'electronic'),\n",
       " (2721, 'Needed Me', 'Rihanna', 'hiphop', 'R&B'),\n",
       " (2726, 'One Dance', 'Drake', 'pop', 'R&B'),\n",
       " (1280, 'Rock You Like A Hurricane', 'Scorpions', 'metal', 'rock'),\n",
       " (51, 'See You Again (feat. Charlie Puth)', 'Wiz Khalifa', 'hiphop', 'pop'),\n",
       " (5108, 'Smooth Criminal - 2012 Remaster', 'Michael Jackson', 'pop', 'disco'),\n",
       " (1023, 'The Only Exception', 'Paramore', 'pop', 'rock')]"
      ]
     },
     "execution_count": 232,
     "metadata": {},
     "output_type": "execute_result"
    }
   ],
   "source": [
    "genrecheck"
   ]
  },
  {
   "cell_type": "code",
   "execution_count": 238,
   "metadata": {},
   "outputs": [],
   "source": [
    "# bad = disco 2\n",
    "# bitch better have my money = hiphop 1\n",
    "# by your side = pop 1\n",
    "# colder heavens = folk 1\n",
    "# die young = pop 1\n",
    "# girls girls girls = rock 2\n",
    "# I feel it coming = pop 1\n",
    "# just dance = electronic 2\n",
    "# lean on = electronic 1\n",
    "# memories = electronic 2\n",
    "# middle = pop 1\n",
    "# needed me = R&B 2\n",
    "# one dance = R&B 2\n",
    "# rock you like a hurricane = rock 2\n",
    "# see you again = pop 2\n",
    "# smooth criminal = pop 1\n",
    "# the only exception = pop 1\n",
    "replacement_genre = [2,1,1,1,1,2,1,2,1,2,1,2,2,2,2,1,1]\n",
    "for i in range(len(replacement_genre)):\n",
    "    mytup = genrecheck[i]\n",
    "    sorted.loc[mytup[0],\"genre\"] = mytup[2+replacement_genre[i]]"
   ]
  },
  {
   "cell_type": "code",
   "execution_count": 245,
   "metadata": {},
   "outputs": [],
   "source": [
    "\n",
    "final = sorted.reset_index(drop = True)\n",
    "final.to_csv(\"dupremoved_trackdata.csv\", index = False)"
   ]
  }
 ],
 "metadata": {
  "kernelspec": {
   "display_name": "base",
   "language": "python",
   "name": "python3"
  },
  "language_info": {
   "codemirror_mode": {
    "name": "ipython",
    "version": 3
   },
   "file_extension": ".py",
   "mimetype": "text/x-python",
   "name": "python",
   "nbconvert_exporter": "python",
   "pygments_lexer": "ipython3",
   "version": "3.8.8"
  },
  "orig_nbformat": 4
 },
 "nbformat": 4,
 "nbformat_minor": 2
}
