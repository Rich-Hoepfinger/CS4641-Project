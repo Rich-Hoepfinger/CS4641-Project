{
 "cells": [
  {
   "cell_type": "code",
   "execution_count": 1,
   "metadata": {},
   "outputs": [],
   "source": [
    "import pandas as pd\n",
    "import numpy as np\n",
    "import dbscan as dbs"
   ]
  },
  {
   "cell_type": "code",
   "execution_count": 22,
   "metadata": {},
   "outputs": [
    {
     "name": "stdout",
     "output_type": "stream",
     "text": [
      "Number of clusters:  1\n"
     ]
    }
   ],
   "source": [
    "EPS = 0.7\n",
    "MIN_POINTS = 2\n",
    "\n",
    "fake_data = pd.read_csv(\"dupremoved_trackdata.csv\", sep = \",\")\n",
    "\n",
    "# Column 9, \"mode\", has been removed to increase sanity of results, as it restricted DBScan to only 2 possible clusters\n",
    "# put as '8' back into the hardcoded array of numbers to add it back in\n",
    "data = fake_data.to_numpy()[:, [4, 5, 6, 7, 9, 10, 11, 12, 13, 14, 16, 17]].astype(np.double)\n",
    "\n",
    "scanner = dbs.DBSCAN(EPS, MIN_POINTS, data)\n",
    "idx = scanner.fit() + 1\n",
    "bi = [bool(i) for i in idx]\n",
    "bool_idx = np.array(bi)\n",
    "\n",
    "print(\"Number of clusters: \", np.size(np.unique(idx)))\n",
    "\n",
    "cleaned_data = data[bool_idx]"
   ]
  }
 ],
 "metadata": {
  "kernelspec": {
   "display_name": "Python 3",
   "language": "python",
   "name": "python3"
  },
  "language_info": {
   "codemirror_mode": {
    "name": "ipython",
    "version": 3
   },
   "file_extension": ".py",
   "mimetype": "text/x-python",
   "name": "python",
   "nbconvert_exporter": "python",
   "pygments_lexer": "ipython3",
   "version": "3.11.2"
  },
  "orig_nbformat": 4
 },
 "nbformat": 4,
 "nbformat_minor": 2
}
