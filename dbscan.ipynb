{
 "cells": [
  {
   "cell_type": "code",
   "execution_count": 40,
   "metadata": {},
   "outputs": [],
   "source": [
    "import pandas as pd\n",
    "import numpy as np\n",
    "from sklearn.cluster import DBSCAN"
   ]
  },
  {
   "cell_type": "code",
   "execution_count": 41,
   "metadata": {},
   "outputs": [],
   "source": [
    "EPS = 11\n",
    "MIN_POINTS = 5\n",
    "\n",
    "fake_data = pd.read_csv(\"dupremoved_trackdata.csv\", sep = \",\")\n",
    "\n",
    "# Column 9, \"mode\", has been removed to increase sanity of results, as it restricted DBScan to only 2 possible clusters\n",
    "# put as '8' back into the hardcoded array of numbers to add it back in\n",
    "# Column 10, time was milliseconds & has been removed for obvious reasons\n",
    "data = fake_data.to_numpy()[:, [4, 5, 6, 7, 9, 10, 11, 12, 13, 14, 17]].astype(np.double)\n",
    "\n",
    "scanner = DBSCAN(eps=EPS, min_samples=MIN_POINTS).fit(data)\n",
    "labels = scanner.labels_\n",
    "bi = [bool(i) for i in (labels + 1)]\n",
    "bool_idx = np.array(bi)\n",
    "\n",
    "cleaned_data = fake_data.to_numpy()[bool_idx]\n",
    "cleaned_dataframe = pd.DataFrame(data=cleaned_data, columns=fake_data.columns, index=fake_data.index[bool_idx])\n",
    "cleaned_dataframe.to_csv(\"dbscaned_trackdata.csv\", sep=\",\")"
   ]
  },
  {
   "cell_type": "code",
   "execution_count": 42,
   "metadata": {},
   "outputs": [
    {
     "name": "stdout",
     "output_type": "stream",
     "text": [
      "Number of clusters:  1\n",
      "# of removed songs:  4\n"
     ]
    }
   ],
   "source": [
    "print(\"Number of clusters: \", len(set(labels)) - (1 if -1 in labels else 0))\n",
    "if (len(cleaned_data)):\n",
    "    print(\"# of removed songs: \", np.shape(data)[0] - np.shape(cleaned_data)[0])\n",
    "else:\n",
    "    print(\"Removed all songs\")"
   ]
  }
 ],
 "metadata": {
  "kernelspec": {
   "display_name": "Python 3",
   "language": "python",
   "name": "python3"
  },
  "language_info": {
   "codemirror_mode": {
    "name": "ipython",
    "version": 3
   },
   "file_extension": ".py",
   "mimetype": "text/x-python",
   "name": "python",
   "nbconvert_exporter": "python",
   "pygments_lexer": "ipython3",
   "version": "3.11.2"
  },
  "orig_nbformat": 4
 },
 "nbformat": 4,
 "nbformat_minor": 2
}
