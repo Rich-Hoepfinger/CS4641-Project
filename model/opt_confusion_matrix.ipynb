{
 "cells": [
  {
   "cell_type": "code",
   "execution_count": 1,
   "metadata": {},
   "outputs": [],
   "source": [
    "import pandas\n",
    "import numpy\n",
    "from sklearn import preprocessing\n",
    "from sklearn import model_selection\n",
    "from sklearn import neural_network\n",
    "from sklearn import metrics\n",
    "from sklearn import neighbors\n",
    "from sklearn import tree\n",
    "from sklearn import svm\n",
    "from sklearn.preprocessing import StandardScaler\n",
    "from matplotlib import pyplot as plt"
   ]
  },
  {
   "cell_type": "code",
   "execution_count": 2,
   "metadata": {},
   "outputs": [],
   "source": [
    "def SVM():\n",
    "    X_train, X_test, y_train, y_test = model_selection.train_test_split(X, y, test_size=0.25)\n",
    "    scaler = StandardScaler()  \n",
    "    scaler.fit(X_train)  \n",
    "    X_train = scaler.transform(X_train)  \n",
    "    X_test = scaler.transform(X_test)\n",
    "    model = svm.SVC(C = 1.5, kernel = 'rbf', degree = 9, gamma = 'scale', decision_function_shape= 'ovo').fit(X_train, y_train)\n",
    "\n",
    "\n",
    "    yPredicted = model.predict(X_test)\n",
    "    with open('outlier_removal/tests.txt','a') as f:\n",
    "        accuracy = metrics.accuracy_score(y_test, yPredicted).round(3)\n",
    "        precision = metrics.precision_score(y_test, yPredicted, average=\"macro\").round(3)\n",
    "        recall = metrics.recall_score(y_test, yPredicted, average=\"macro\").round(3)\n",
    "        f.write(\"\\nModel: SVM\")\n",
    "        f.write(\"\\nAccuracy: \" + str(accuracy))\n",
    "        f.write(\"\\nPrecision: \" + str(precision))\n",
    "        f.write(\"\\nRecall: \" + str(recall) + \"\\n\")\n",
    "        return accuracy"
   ]
  },
  {
   "cell_type": "code",
   "execution_count": 3,
   "metadata": {},
   "outputs": [],
   "source": [
    "data = pandas.read_csv('outlier_removal/automated_collinearity_removed.csv')\n",
    "\n",
    "genreMap = sorted(data[\"genre\"].unique())\n",
    "y = preprocessing.LabelEncoder().fit_transform(data[\"genre\"])\n",
    "X = data.drop(\"genre\", axis=1)"
   ]
  },
  {
   "cell_type": "code",
   "execution_count": 5,
   "metadata": {},
   "outputs": [
    {
     "ename": "AttributeError",
     "evalue": "module 'sklearn.metrics' has no attribute 'plot_confusion_matrix'",
     "output_type": "error",
     "traceback": [
      "\u001b[0;31m---------------------------------------------------------------------------\u001b[0m",
      "\u001b[0;31mAttributeError\u001b[0m                            Traceback (most recent call last)",
      "Cell \u001b[0;32mIn[5], line 10\u001b[0m\n\u001b[1;32m      6\u001b[0m model \u001b[39m=\u001b[39m svm\u001b[39m.\u001b[39mSVC(C \u001b[39m=\u001b[39m \u001b[39m1.5\u001b[39m, kernel \u001b[39m=\u001b[39m \u001b[39m'\u001b[39m\u001b[39mrbf\u001b[39m\u001b[39m'\u001b[39m, degree \u001b[39m=\u001b[39m \u001b[39m9\u001b[39m, gamma \u001b[39m=\u001b[39m \u001b[39m'\u001b[39m\u001b[39mscale\u001b[39m\u001b[39m'\u001b[39m, decision_function_shape\u001b[39m=\u001b[39m \u001b[39m'\u001b[39m\u001b[39movo\u001b[39m\u001b[39m'\u001b[39m)\u001b[39m.\u001b[39mfit(X_train, y_train)\n\u001b[1;32m      9\u001b[0m yPredicted \u001b[39m=\u001b[39m model\u001b[39m.\u001b[39mpredict(X_test)\n\u001b[0;32m---> 10\u001b[0m metrics\u001b[39m.\u001b[39;49mplot_confusion_matrix(model, X_test, y_test, cmap\u001b[39m=\u001b[39m\u001b[39m'\u001b[39m\u001b[39mGnBu\u001b[39m\u001b[39m'\u001b[39m)\n\u001b[1;32m     11\u001b[0m plt\u001b[39m.\u001b[39mshow()\n\u001b[1;32m     12\u001b[0m \u001b[39mprint\u001b[39m(\u001b[39m'\u001b[39m\u001b[39mAccuracy: \u001b[39m\u001b[39m%.3f\u001b[39;00m\u001b[39m'\u001b[39m \u001b[39m%\u001b[39m metrics\u001b[39m.\u001b[39maccuracy_score(y_test, yPredicted))\n",
      "\u001b[0;31mAttributeError\u001b[0m: module 'sklearn.metrics' has no attribute 'plot_confusion_matrix'"
     ]
    }
   ],
   "source": [
    "X_train, X_test, y_train, y_test = model_selection.train_test_split(X, y, test_size=0.25)\n",
    "scaler = StandardScaler()  \n",
    "scaler.fit(X_train)  \n",
    "X_train = scaler.transform(X_train)  \n",
    "X_test = scaler.transform(X_test)\n",
    "model = svm.SVC(C = 1.5, kernel = 'rbf', degree = 9, gamma = 'scale', decision_function_shape= 'ovo').fit(X_train, y_train)\n",
    "\n",
    "\n",
    "yPredicted = model.predict(X_test)\n",
    "metrics.plot_confusion_matrix(model, X_test, y_test, cmap='GnBu')\n",
    "plt.show()\n",
    "print('Accuracy: %.3f' % metrics.accuracy_score(y_test, yPredicted))\n",
    "print('Precision: %.3f' % metrics.precision_score(y_test, yPredicted, average=\"macro\"))\n",
    "print('Recall: %.3f' % metrics.recall_score(y_test, yPredicted, average=\"macro\")) "
   ]
  }
 ],
 "metadata": {
  "kernelspec": {
   "display_name": "base",
   "language": "python",
   "name": "python3"
  },
  "language_info": {
   "codemirror_mode": {
    "name": "ipython",
    "version": 3
   },
   "file_extension": ".py",
   "mimetype": "text/x-python",
   "name": "python",
   "nbconvert_exporter": "python",
   "pygments_lexer": "ipython3",
   "version": "3.10.9"
  },
  "orig_nbformat": 4
 },
 "nbformat": 4,
 "nbformat_minor": 2
}
