{
 "cells": [
  {
   "cell_type": "code",
   "execution_count": 1,
   "metadata": {},
   "outputs": [],
   "source": [
    "import pandas as pd\n",
    "import numpy as np"
   ]
  },
  {
   "cell_type": "code",
   "execution_count": 2,
   "metadata": {},
   "outputs": [],
   "source": [
    "data = pd.read_csv(\"dupremoved_trackdata.csv\", sep = \",\")"
   ]
  },
  {
   "cell_type": "code",
   "execution_count": 25,
   "metadata": {},
   "outputs": [],
   "source": [
    "def min_max(logit):\n",
    "    '''\n",
    "    Args:\n",
    "        logit: N x D pd.DataFrame\n",
    "    Return:\n",
    "        score: N x D pd.DataFrame. A normalised score in strict scale 0-1 for each dimension.\n",
    "    '''\n",
    "    logit = (logit - logit.min(axis=0))/(logit.max(axis=0) - logit.min(axis=0))\n",
    "    return logit\n"
   ]
  },
  {
   "cell_type": "code",
   "execution_count": 20,
   "metadata": {},
   "outputs": [],
   "source": [
    "def zscore(logit):\n",
    "    '''\n",
    "    Args:\n",
    "        logit: N x D pd.DataFrame\n",
    "    Return:\n",
    "        score: N x D pd.DataFrame. A standardised score for each dimension.\n",
    "    '''\n",
    "    # Datapoints 1 standard deviation awasy mean will be < 0 or > 1. \n",
    "    logit = (logit - logit.mean(axis=0))/logit.std(axis=0, ddof = 1)\n",
    "    return logit\n"
   ]
  },
  {
   "cell_type": "code",
   "execution_count": 21,
   "metadata": {},
   "outputs": [],
   "source": [
    "def softmax(logit):  # [5pts]\n",
    "    \"\"\"\n",
    "    Args:\n",
    "        logit: N x D numpy array\n",
    "    Return:\n",
    "        prob: N x D numpy array. A probability distribution over the set of dimensions. \n",
    "    \"\"\"\n",
    "    logit = logit - logit.max(axis=1).reshape(len(logit), 1)\n",
    "    sum_exp = np.sum(np.exp(logit), axis = 1, keepdims = True)\n",
    "    prob = np.exp(logit) / sum_exp\n",
    "    return prob"
   ]
  },
  {
   "cell_type": "code",
   "execution_count": 22,
   "metadata": {},
   "outputs": [],
   "source": []
  },
  {
   "cell_type": "code",
   "execution_count": 27,
   "metadata": {},
   "outputs": [
    {
     "name": "stdout",
     "output_type": "stream",
     "text": [
      "      popularity  loudness     tempo  duration_ms\n",
      "0       0.479167  0.641508  0.624447     0.294834\n",
      "1       0.312500  0.700725  0.753462     0.133043\n",
      "2       0.000000  0.796883  0.370000     0.160113\n",
      "3       0.541667  0.762382  0.552128     0.127511\n",
      "4       0.531250  0.734815  0.533389     0.280151\n",
      "...          ...       ...       ...          ...\n",
      "6095    0.656250  0.973955  0.601368     0.214842\n",
      "6096    0.416667  0.728920  0.757912     0.080876\n",
      "6097    0.645833  0.881421  0.555611     0.201860\n",
      "6098    0.614583  0.836023  0.860113     0.321677\n",
      "6099    0.000000  0.522566  0.809845     0.247221\n",
      "\n",
      "[6100 rows x 4 columns]\n"
     ]
    }
   ],
   "source": [
    "# Min-max normalise all the numeric variables that have not been min-max normalised already. \n",
    "normalisation = data[['popularity', 'loudness', 'tempo', 'duration_ms']]\n",
    "data_minmax = min_max(normalisation)\n",
    "data[['popularity', 'loudness', 'tempo', 'duration_ms']] = data_minmax\n",
    "data.to_csv(\"minmax_normalised_trackdata.csv\", index = False)"
   ]
  },
  {
   "cell_type": "code",
   "execution_count": 37,
   "metadata": {},
   "outputs": [
    {
     "name": "stdout",
     "output_type": "stream",
     "text": [
      "Index(['name', 'artist', 'album', 'popularity', 'danceability', 'energy',\n",
      "       'key', 'loudness', 'mode', 'speechiness', 'acousticness',\n",
      "       'instrumentalness', 'liveness', 'valence', 'tempo', 'id', 'duration_ms',\n",
      "       'time_signature', 'genre'],\n",
      "      dtype='object')\n"
     ]
    }
   ],
   "source": [
    "print(data.columns)\n"
   ]
  },
  {
   "cell_type": "code",
   "execution_count": 41,
   "metadata": {},
   "outputs": [],
   "source": [
    "# Change every numeric variable to zscore normalised.\n",
    "index_set = ['popularity', 'danceability', 'energy', 'loudness', 'speechiness', 'acousticness','instrumentalness', 'liveness', \n",
    "             'valence', 'tempo', 'duration_ms']\n",
    "data[index_set] = zscore(data[index_set])\n",
    "data.to_csv(\"zscore_normalised_trackdata.csv\", index = False)"
   ]
  },
  {
   "cell_type": "code",
   "execution_count": 42,
   "metadata": {},
   "outputs": [],
   "source": [
    "# Change every numeric variable to softmax normalised.\n",
    "data[index_set] = softmax(np.array(data[index_set]))\n",
    "data.to_csv(\"softmax_normalised_trackdata.csv\", index = False)"
   ]
  }
 ],
 "metadata": {
  "kernelspec": {
   "display_name": "ml_hw1",
   "language": "python",
   "name": "python3"
  },
  "language_info": {
   "codemirror_mode": {
    "name": "ipython",
    "version": 3
   },
   "file_extension": ".py",
   "mimetype": "text/x-python",
   "name": "python",
   "nbconvert_exporter": "python",
   "pygments_lexer": "ipython3",
   "version": "3.10.9"
  },
  "orig_nbformat": 4
 },
 "nbformat": 4,
 "nbformat_minor": 2
}
